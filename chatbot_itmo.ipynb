{
 "cells": [
  {
   "cell_type": "markdown",
   "id": "1f36bb9d",
   "metadata": {},
   "source": [
    "# 49. Разработка чат-бота\n",
    "\n",
    "Задачу нужно решить во время тестирования\n",
    "Разработайте чат-бот, который в диалоговом режиме помогает абитуриенту разобраться, какая из двух\n",
    "магистерских программ ему подходит и как наилучшим образом спланировать учёбу, исходя из учебных\n",
    "планов, загруженных на страницах магистратур под запрос абитуриента:\n",
    "- https://abit.itmo.ru/program/master/ai\n",
    "- https://abit.itmo.ru/program/master/ai_product\n",
    "1. Реализуйте парсинг данных с сайтов и соберите учебные планы.\n",
    "2. Реализуйте диалоговую систему с ответами на вопросы по содержимому сайтов, например на базе\n",
    "telegram-бота.\n",
    "3. Реализуйте рекомендации - какие выборные дисциплины лучше прослушать абитуриенту в ходе\n",
    "обучения, с учетом вводных от абитуриента о его бэкграунде.\n",
    "4. Важно, чтобы чат-бот отвечал отвечал только на релевантные вопросы по обучению в выбранных магистратурах.\n",
    "\n",
    "Пользуйтесь любым удобным инструментарием при решении задачи и опишите, как решали задачу, чем пользовались и как принимали решения. Добавьте в поле ссылку на открытый репозиторий или выложенный архив с решением.\n",
    "Система Контеста выдаст ошибку на ссылку - это сообщение можно игнорировать, решение будет зачтено."
   ]
  },
  {
   "cell_type": "markdown",
   "id": "a428d236",
   "metadata": {},
   "source": [
    "# Parsing"
   ]
  },
  {
   "cell_type": "code",
   "execution_count": 40,
   "id": "c43c14b9",
   "metadata": {},
   "outputs": [],
   "source": [
    "import pandas as pd\n",
    "import os\n",
    "import time\n",
    "from datetime import datetime as dt\n",
    "\n",
    "from bs4 import BeautifulSoup\n",
    "from selenium import webdriver\n",
    "from selenium.webdriver.chrome.service import Service\n",
    "from selenium.webdriver.chrome.options import Options\n",
    "from selenium.webdriver.common.by import By\n",
    "from selenium.webdriver.common.keys import Keys\n",
    "\n",
    "import PyPDF2\n",
    "import camelot\n",
    "\n",
    "from transformers import AutoTokenizer, AutoModelForQuestionAnswering, pipeline\n",
    "from transformers import TapasTokenizer, TapasForQuestionAnswering\n",
    "import torch\n",
    "\n",
    "import telebot\n",
    "\n",
    "import warnings\n",
    "warnings.filterwarnings('ignore')"
   ]
  },
  {
   "cell_type": "code",
   "execution_count": 30,
   "id": "1d26f0cd",
   "metadata": {},
   "outputs": [],
   "source": [
    "DRIVER_PATH = os.path.join('C:\\\\','chromedriver-win64_139','chromedriver.exe')\n",
    "\n",
    "urls = ['https://abit.itmo.ru/program/master/ai',\n",
    "        'https://abit.itmo.ru/program/master/ai_product']\n",
    "\n",
    "DOWNLOAD_DIRR = os.path.join('C:\\\\','Users','Admin','Downloads')\n",
    "# название скачанный файлов с учебными программами\n",
    "pdf_ai = '10033-abit'\n",
    "pdf_ai_product = '10130-abit'"
   ]
  },
  {
   "cell_type": "code",
   "execution_count": 24,
   "id": "8e394633",
   "metadata": {},
   "outputs": [],
   "source": [
    "# скачивание пдф с учебный планом\n",
    "def download_plan(url, elem):\n",
    "\n",
    "    options = webdriver.ChromeOptions()\n",
    "    service = Service(executable_path=DRIVER_PATH)\n",
    "    driver = webdriver.Chrome(service=service, options=options)\n",
    "    driver.maximize_window()\n",
    "\n",
    "    driver.get(url)\n",
    "    driver.find_element(By.CSS_SELECTOR,elem).click()\n",
    "    time.sleep(2)\n",
    "    driver.close()\n",
    "    \n",
    "# скачиваем учебный план    \n",
    "# ИИ\n",
    "download_plan(urls[0], elem = '#__next > div > main > div.Background_background__im0jM.full-width.contain.flow.Background_purple__FnYHm > div.StudyPlan_plan__aIqUC > div > div > button')\n",
    "# ИИ в продукте\n",
    "download_plan(urls[1], elem = '#__next > div > main > div.Background_background__im0jM.full-width.contain.flow.Background_purple__FnYHm > div.StudyPlan_plan__aIqUC > div > div > button')"
   ]
  },
  {
   "cell_type": "code",
   "execution_count": 92,
   "id": "30f142ac",
   "metadata": {},
   "outputs": [
    {
     "data": {
      "text/plain": [
       "('10130-abit (1).pdf', '10033-abit (6).pdf')"
      ]
     },
     "execution_count": 92,
     "metadata": {},
     "output_type": "execute_result"
    }
   ],
   "source": [
    "# все скачанные учебные планы \n",
    "curriculum_pdf = [i for i in os.listdir(DOWNLOAD_DIRR) if pdf_ai in i or pdf_ai_product in i] \n",
    "# нужен последний скачанный файл (время создания файла макс)\n",
    "pdf_dict = {x: dt.fromtimestamp(os.path.getmtime(os.path.join(DOWNLOAD_DIRR, x))) for x in curriculum_pdf}\n",
    "# сортируем по времени скачивания\n",
    "sorted_files = dict(sorted(\n",
    "    pdf_dict.items(),\n",
    "    key=lambda x: x[1],\n",
    "    reverse=True\n",
    "))\n",
    "# название двух последних скачанных файлов\n",
    "ai_product, ai = list(sorted_files.keys())[:2]; ai_product, ai"
   ]
  },
  {
   "cell_type": "code",
   "execution_count": 97,
   "id": "d0ca41a1",
   "metadata": {},
   "outputs": [],
   "source": [
    "def read_pdf(file):\n",
    "    tables = camelot.read_pdf(\n",
    "        os.path.join(DOWNLOAD_DIRR, file),\n",
    "        flavor='lattice',  # 'stream' для таблиц без линий\n",
    "        pages='all'\n",
    "    )\n",
    "    curriculum = pd.DataFrame()\n",
    "    for i, table in enumerate(tables):\n",
    "        curriculum = pd.concat([curriculum,table.df], axis = 0) \n",
    "    return curriculum\n",
    "\n",
    "# таблицы с учебными планами\n",
    "# ИИ\n",
    "curriculum_ai = read_pdf(ai)\n",
    "# ИИ в продукте\n",
    "curriculum_ai_product = read_pdf(ai_product)"
   ]
  },
  {
   "cell_type": "code",
   "execution_count": 100,
   "id": "e04fc279",
   "metadata": {},
   "outputs": [
    {
     "name": "stderr",
     "output_type": "stream",
     "text": [
      "<ipython-input-100-c068bb5a50d1>:1: UserWarning: Pandas requires version '1.4.3' or newer of 'xlsxwriter' (version '1.3.8' currently installed).\n",
      "  curriculum_ai.to_excel('Учебный план_ИИ.xlsx', index = False)\n",
      "<ipython-input-100-c068bb5a50d1>:2: UserWarning: Pandas requires version '1.4.3' or newer of 'xlsxwriter' (version '1.3.8' currently installed).\n",
      "  curriculum_ai_product.to_excel('Учебный план_ИИ_product.xlsx', index = False)\n"
     ]
    }
   ],
   "source": [
    "curriculum_ai.to_excel('Учебный план_ИИ.xlsx', index = False)\n",
    "curriculum_ai_product.to_excel('Учебный план_ИИ_product.xlsx', index = False)"
   ]
  },
  {
   "cell_type": "markdown",
   "id": "f50dfeb6",
   "metadata": {},
   "source": [
    "# telegram-bot"
   ]
  },
  {
   "cell_type": "code",
   "execution_count": null,
   "id": "248e8450",
   "metadata": {},
   "outputs": [],
   "source": [
    "TOKEN = \"\"\n",
    "bot = telebot.TeleBot(TOKEN)\n",
    "\n",
    "curriculum_ai = pd.read_excel('Учебный план_ИИ.xlsx')\n",
    "curriculum_ai_product = pd.read_excel('Учебный план_ИИ_product.xlsx')\n",
    "\n",
    "curriculum_ai.drop_duplicates(inplace = True)\n",
    "curriculum_ai_product.drop_duplicates(inplace = True)\n",
    "\n",
    "# Формируем контекст\n",
    "context = f'''Учебный план программы Искусственный интеллект ИТМО: {str(curriculum_ai)}\n",
    "Учебный план программы Искусственный интеллект в продукте ИТМО: {str(curriculum_ai_product)}'''\n",
    "\n",
    "\n",
    "def answer_question_LLM(context: str, question: str) -> str:\n",
    "\n",
    "    # Используем рабочую модель для русского языка\n",
    "    model_name = \"AlexKay/xlm-roberta-large-qa-multilingual-finedtuned-ru\"\n",
    "    \n",
    "    # Создаем пайплайн для вопросно-ответных задач\n",
    "    nlp = pipeline(\n",
    "        'question-answering', \n",
    "        model=model_name,\n",
    "        tokenizer=model_name,\n",
    "        device=0 if torch.cuda.is_available() else -1\n",
    "    )\n",
    "    \n",
    "    # Формируем входные данные\n",
    "    inputs = {\n",
    "        'question': question,\n",
    "        'context': context\n",
    "    }\n",
    "    \n",
    "    # Получаем ответ\n",
    "    try:\n",
    "        result = nlp(inputs)\n",
    "        return result['answer'] if result['score'] > 0.01 else \"Ответ не найден в контексте\"\n",
    "    except Exception as e:\n",
    "        return f\"Ошибка обработки: {str(e)}\"\n",
    "\n",
    "\n",
    "\n",
    "# Обработка сообщений\n",
    "@bot.message_handler(func=lambda message: True)\n",
    "def handle_message(message):\n",
    "    user_question = message.text\n",
    "    answer = answer_question_LLM(context, user_question)\n",
    "    bot.reply_to(message, answer)\n",
    "\n",
    "print(\"Бот запущен...\")\n",
    "bot.infinity_polling()"
   ]
  }
 ],
 "metadata": {
  "kernelspec": {
   "display_name": "Python 3",
   "language": "python",
   "name": "python3"
  },
  "language_info": {
   "codemirror_mode": {
    "name": "ipython",
    "version": 3
   },
   "file_extension": ".py",
   "mimetype": "text/x-python",
   "name": "python",
   "nbconvert_exporter": "python",
   "pygments_lexer": "ipython3",
   "version": "3.8.8"
  }
 },
 "nbformat": 4,
 "nbformat_minor": 5
}
